{
 "cells": [
  {
   "cell_type": "markdown",
   "metadata": {},
   "source": [
    "###### Assessment"
   ]
  },
  {
   "cell_type": "markdown",
   "metadata": {},
   "source": [
    "###### I am going to provide two .csv files , you are supposed to work on them and have to provide solutions to the following problems"
   ]
  },
  {
   "cell_type": "markdown",
   "metadata": {},
   "source": [
    "###### import necessary libraries"
   ]
  },
  {
   "cell_type": "code",
   "execution_count": 3,
   "metadata": {},
   "outputs": [],
   "source": [
    "import pandas as pd\n",
    "import matplotlib.pyplot as plt"
   ]
  },
  {
   "cell_type": "markdown",
   "metadata": {},
   "source": [
    "###### merge those two csv files (after getting as dataframes, get them as a single dataframe)"
   ]
  },
  {
   "cell_type": "code",
   "execution_count": 4,
   "metadata": {},
   "outputs": [],
   "source": [
    "col1 = pd.read_csv('college_1.csv')\n",
    "col2 = pd.read_csv('college_2.csv')\n",
    "\n",
    "merge = pd.concat([col1,col2], join='outer',ignore_index= True)"
   ]
  },
  {
   "cell_type": "markdown",
   "metadata": {},
   "source": [
    "###### Take each csv file , split that csv file into multiple categories (example csv files are added in the repo) \n"
   ]
  },
  {
   "cell_type": "markdown",
   "metadata": {},
   "source": [
    "###### consider if the codekata score exceeds 15000 points(present week) then make a csv on those observations as Exceeded expectations.csv\n"
   ]
  },
  {
   "cell_type": "markdown",
   "metadata": {},
   "source": [
    "###### if  10000<codekata score<15000   (Reached_expectations.csv)\n",
    "\n"
   ]
  },
  {
   "cell_type": "markdown",
   "metadata": {},
   "source": [
    "###### if  7000<codekata score<10000   (Needs_Improvement.csv)\n"
   ]
  },
  {
   "cell_type": "markdown",
   "metadata": {},
   "source": [
    "###### if  codekate score < 7000        (Unsatisfactory.csv)"
   ]
  },
  {
   "cell_type": "code",
   "execution_count": null,
   "metadata": {},
   "outputs": [],
   "source": [
    "exceed = merge.loc[merge['CodeKata Score'] > 15000]\n",
    "exceed.to_csv('Exceeded_Expectations.csv')"
   ]
  },
  {
   "cell_type": "code",
   "execution_count": null,
   "metadata": {},
   "outputs": [],
   "source": [
    "reach = merge.loc[(merge['CodeKata Score'] > 10000)&(merge['CodeKata Score'] <15000)]\n",
    "reach.to_csv('Reached_Expectation.csv')"
   ]
  },
  {
   "cell_type": "code",
   "execution_count": null,
   "metadata": {},
   "outputs": [],
   "source": [
    "need = merge.loc[(merge['CodeKata Score'] > 7000)&(merge['CodeKata Score'] < 10000)]\n",
    "need.to_csv('Need_Improvement.csv')"
   ]
  },
  {
   "cell_type": "code",
   "execution_count": null,
   "metadata": {},
   "outputs": [],
   "source": [
    "unsatisfactory = merge.loc[merge['CodeKata Score'] < 7000]\n",
    "unsatisfactory.to_csv('Unsatisfactory.csv')"
   ]
  },
  {
   "cell_type": "markdown",
   "metadata": {},
   "source": [
    "###### Average of previous week geekions vs this week geekions (i.e Previous Geekions vs CodeKata Score)"
   ]
  },
  {
   "cell_type": "code",
   "execution_count": 5,
   "metadata": {},
   "outputs": [
    {
     "name": "stdout",
     "output_type": "stream",
     "text": [
      "Average of Previous Geekions =  3842.3529411764707\n",
      "Average of CodeKata Score =  4051.764705882353\n"
     ]
    }
   ],
   "source": [
    "avgofgeekions = merge['Previous Geekions'].mean()\n",
    "print('Average of Previous Geekions = ',avgofgeekions)\n",
    "\n",
    "avgofscore = merge['CodeKata Score'].mean()\n",
    "print('Average of CodeKata Score = ',avgofscore)"
   ]
  },
  {
   "cell_type": "markdown",
   "metadata": {},
   "source": [
    "###### No of students participated "
   ]
  },
  {
   "cell_type": "code",
   "execution_count": 6,
   "metadata": {},
   "outputs": [
    {
     "name": "stdout",
     "output_type": "stream",
     "text": [
      "No. of Students: 119\n"
     ]
    }
   ],
   "source": [
    "noofstu = merge['Name'].count()\n",
    "print('No. of Students:',noofstu)"
   ]
  },
  {
   "cell_type": "markdown",
   "metadata": {},
   "source": [
    "###### #Average completion of python course or my_sql or python english or computational thinking"
   ]
  },
  {
   "cell_type": "code",
   "execution_count": 7,
   "metadata": {},
   "outputs": [
    {
     "name": "stdout",
     "output_type": "stream",
     "text": [
      "Average of My_SQL: 23.5\n",
      "Average of Python English: 29.65714285714286\n",
      "Average of Computational Thinking: 2.2\n"
     ]
    }
   ],
   "source": [
    "avgofsql = merge['mysql'].mean()\n",
    "print('Average of My_SQL:',avgofsql)\n",
    "\n",
    "avgofpyen = merge['python_en'].mean()\n",
    "print('Average of Python English:',avgofpyen)\n",
    "\n",
    "avgofcompt = merge['computational_thinking'].mean()\n",
    "print('Average of Computational Thinking:',avgofcompt)"
   ]
  },
  {
   "cell_type": "markdown",
   "metadata": {},
   "source": [
    "###### rising star of the week (top 3 candidate who performed well in that particular week)"
   ]
  },
  {
   "cell_type": "code",
   "execution_count": 9,
   "metadata": {},
   "outputs": [
    {
     "name": "stdout",
     "output_type": "stream",
     "text": [
      "                  Name  python  mysql  Previous Geekions  CodeKata Score  \\\n",
      "92            shifak N    58.0    0.0               5180            8320   \n",
      "102     Narasimhan Y L    -1.0    0.0               4800            6800   \n",
      "86   Ganesh Ramkumar R    -1.0   24.0               8790           10790   \n",
      "\n",
      "                                 Department  Rising  python_en  \\\n",
      "92   Electronics and Electrical Engineering    3140        0.0   \n",
      "102        Computer Science and Engineering    2000       -1.0   \n",
      "86         Computer Science and Engineering    2000       55.0   \n",
      "\n",
      "     computational_thinking  \n",
      "92                      0.0  \n",
      "102                     0.0  \n",
      "86                      6.0  \n"
     ]
    }
   ],
   "source": [
    "ascen = merge.sort_values(by = ['Rising'],ascending = False)\n",
    "top3ofrising = ascen.head(3)\n",
    "print(top3ofrising)"
   ]
  },
  {
   "cell_type": "markdown",
   "metadata": {},
   "source": [
    "###### Shining stars of the week (top 3 candidates who has highest geekions)"
   ]
  },
  {
   "cell_type": "code",
   "execution_count": 10,
   "metadata": {},
   "outputs": [
    {
     "name": "stdout",
     "output_type": "stream",
     "text": [
      "          Name  python  mysql  Previous Geekions  CodeKata Score  \\\n",
      "0    A.Dharani    82.0   20.0              24500           24500   \n",
      "1  V.JEEVITHA     82.0   20.0              21740           21740   \n",
      "2  HEMAVATHI.R   100.0  100.0              19680           19680   \n",
      "\n",
      "                         Department  Rising  python_en  computational_thinking  \n",
      "0  Computer Science and Engineering       0        NaN                     NaN  \n",
      "1  Computer Science and Engineering       0        NaN                     NaN  \n",
      "2  Computer Science and Engineering       0        NaN                     NaN  \n"
     ]
    }
   ],
   "source": [
    "ascen1 = merge.sort_values(by = ['Previous Geekions'], ascending = False)\n",
    "top3ofgeek = ascen1.head(3)\n",
    "print(top3ofgeek)"
   ]
  },
  {
   "cell_type": "markdown",
   "metadata": {},
   "source": [
    "###### Department wise codekata performence (pie chart)"
   ]
  },
  {
   "cell_type": "code",
   "execution_count": 2,
   "metadata": {},
   "outputs": [
    {
     "data": {
      "text/plain": [
       "([<matplotlib.patches.Wedge at 0x244d2c86460>,\n",
       "  <matplotlib.patches.Wedge at 0x244d2c86940>,\n",
       "  <matplotlib.patches.Wedge at 0x244d2c86e20>],\n",
       " [Text(0.13490819619649513, 1.0916958269586856, 'Computer Science and Engineering'),\n",
       "  Text(-0.9401648049597914, -0.5710430277263856, 'Electronics and Communication Engineering'),\n",
       "  Text(0.6820374803157301, -0.8630323721880717, 'Electronics and Electrical Engineering')])"
      ]
     },
     "execution_count": 2,
     "metadata": {},
     "output_type": "execute_result"
    },
    {
     "data": {
      "image/png": "[encoded data removed]",
      "text/plain": [
       "<Figure size 640x480 with 1 Axes>"
      ]
     },
     "metadata": {},
     "output_type": "display_data"
    }
   ],
   "source": [
    "import pandas as pd\n",
    "import matplotlib.pyplot as plt\n",
    "\n",
    "col1 = pd.read_csv('college_1.csv')\n",
    "col2 = pd.read_csv('college_2.csv')\n",
    "\n",
    "merge = pd.concat([col1,col2],join='outer',ignore_index=True)\n",
    "\n",
    "select = merge.groupby('Department')['CodeKata Score'].mean()\n",
    "lab = merge['Department'].unique()\n",
    "\n",
    "plt.pie(select,labels = lab)"
   ]
  },
  {
   "cell_type": "markdown",
   "metadata": {},
   "source": [
    "###### Department wise toppers (horizantal bar graph or any visual representations of your choice)"
   ]
  },
  {
   "cell_type": "code",
   "execution_count": 1,
   "metadata": {},
   "outputs": [
    {
     "data": {
      "image/png": "[encoded data removed]",
      "text/plain": [
       "<Figure size 2000x1000 with 1 Axes>"
      ]
     },
     "metadata": {},
     "output_type": "display_data"
    }
   ],
   "source": [
    "import pandas as pd\n",
    "import matplotlib.pyplot as plt\n",
    "\n",
    "col1 = pd.read_csv('college_1.csv')\n",
    "col2 = pd.read_csv('college_2.csv')\n",
    "\n",
    "merge = pd.concat([col1,col2],join='outer',ignore_index=True)\n",
    "\n",
    "\n",
    "ascen = merge.sort_values(by = ['CodeKata Score'],ascending = False)\n",
    "\n",
    "grouped = ascen.groupby(by = ['Department'])\n",
    "\n",
    "toppers = grouped.head(1)\n",
    "\n",
    "dept = toppers['Department']\n",
    "mark = toppers['CodeKata Score']\n",
    "\n",
    "fig = plt.figure(figsize = (20,10))\n",
    "plt.bar(dept,mark,color = ['gold','silver','brown'])\n",
    "plt.show()"
   ]
  },
  {
   "cell_type": "code",
   "execution_count": null,
   "metadata": {},
   "outputs": [],
   "source": []
  },
  {
   "cell_type": "code",
   "execution_count": null,
   "metadata": {},
   "outputs": [],
   "source": []
  },
  {
   "cell_type": "code",
   "execution_count": null,
   "metadata": {},
   "outputs": [],
   "source": []
  },
  {
   "cell_type": "code",
   "execution_count": null,
   "metadata": {},
   "outputs": [],
   "source": []
  }
 ],
 "metadata": {
  "kernelspec": {
   "display_name": "Python 3 (ipykernel)",
   "language": "python",
   "name": "python3"
  },
  "language_info": {
   "codemirror_mode": {
    "name": "ipython",
    "version": 3
   },
   "file_extension": ".py",
   "mimetype": "text/x-python",
   "name": "python",
   "nbconvert_exporter": "python",
   "pygments_lexer": "ipython3",
   "version": "3.9.7"
  }
 },
 "nbformat": 4,
 "nbformat_minor": 2
}
