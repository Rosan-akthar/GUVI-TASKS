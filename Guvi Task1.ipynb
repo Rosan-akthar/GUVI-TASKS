{
 "cells": [
  {
   "cell_type": "code",
   "execution_count": 2,
   "id": "1780b6a3",
   "metadata": {},
   "outputs": [],
   "source": [
    "import re\n",
    "\n",
    "def Emailcheck(email):\n",
    "    regex = r'\\b[a-zA-Z0-9._%+-]+[@]+[a-zA-Z]+[.]+[a-z|A-Z]{2,}\\b'\n",
    "    checkemail = re.fullmatch(regex, email)\n",
    "    \n",
    "    isvalid = True\n",
    "    if checkemail == None:\n",
    "        isvalid = False\n",
    "        \n",
    "    return isvalid\n",
    "\n",
    "def Pwdcheck(pwd):\n",
    "    regex = '(?=.*[a-z])(?=.*[A-Z])(?=.*[0-9])(?=.*[!@#$%^&*_])[a-zA-Z0-9!@#$%^&*_]{5,16}$' \n",
    "    checkpassword = re.fullmatch(regex, pwd)\n",
    "\n",
    "    isvalid = True\n",
    "    if checkpassword == None:\n",
    "        isvalid = False\n",
    "        \n",
    "    return isvalid"
   ]
  },
  {
   "cell_type": "code",
   "execution_count": 4,
   "id": "34218dc6",
   "metadata": {},
   "outputs": [],
   "source": [
    "def register(email,pwd):\n",
    "    file = open('test1.txt','a')\n",
    "    file.write(email+','+pwd+'\\n')\n",
    "    file.close()\n",
    "        \n"
   ]
  },
  {
   "cell_type": "code",
   "execution_count": 6,
   "id": "8df2761b",
   "metadata": {},
   "outputs": [],
   "source": [
    "#shortcut youtube\n",
    "def login(email,pwd):\n",
    "    success = False\n",
    "    file = open('test1.txt','r')\n",
    "    for i in file:\n",
    "        a,b = i.split(',')\n",
    "        print(a,b)\n",
    "        b = b.strip()\n",
    "        if (a == email and b == pwd):\n",
    "            success = True\n",
    "            break\n",
    "        file.close()\n",
    "        \n",
    "    if success == True:\n",
    "        print('login successful')\n",
    "    else:\n",
    "        print('login failed')\n"
   ]
  },
  {
   "cell_type": "code",
   "execution_count": null,
   "id": "3b5ec7b0",
   "metadata": {},
   "outputs": [
    {
     "name": "stdout",
     "output_type": "stream",
     "text": [
      "Enter email address:rosan@gmail.com\n",
      "Enter the password:Rosan@007\n",
      "Enter the choice:\n",
      "1.Register user\n",
      "2.Login user\n",
      "3.Forgot Password\n",
      "4.Exit\n"
     ]
    }
   ],
   "source": [
    "while True:\n",
    "    print(\"Enter the choice:\")\n",
    "    print(\"1.Register user\")\n",
    "    print(\"2.Login user\")\n",
    "    print(\"3.Forgot Password\")\n",
    "    print(\"4.Exit\")\n",
    "    choice = int(input())\n",
    "    if choice == 1:\n",
    "        validemail = Emailcheck(email)\n",
    "        validpwd = Pwdcheck(pwd)\n",
    "        email = input(\"Enter email address:\")\n",
    "        pwd = input(\"Enter the password:\")\n",
    "        if validemail and validpwd:\n",
    "            register(email, pwd)\n",
    "            print('successfully registered')\n",
    "        else:\n",
    "            print('Email or password is invalid')\n",
    "    elif choice == 2:\n",
    "        validemail = Emailcheck(email)\n",
    "        validpwd = Pwdcheck(pwd)\n",
    "        email = input(\"Enter email address:\")\n",
    "        pwd = input(\"Enter the password:\")\n",
    "        if validemail and validpwd:\n",
    "            login(email, pwd)\n",
    "            print('login successfull')\n",
    "        else:\n",
    "            print('Email or password is invalid')\n",
    "    elif choice == 3:\n",
    "        if validemail and validpwd:\n",
    "            register(email, pwd)\n",
    "    else:\n",
    "        break"
   ]
  }
 ],
 "metadata": {
  "kernelspec": {
   "display_name": "Python 3 (ipykernel)",
   "language": "python",
   "name": "python3"
  },
  "language_info": {
   "codemirror_mode": {
    "name": "ipython",
    "version": 3
   },
   "file_extension": ".py",
   "mimetype": "text/x-python",
   "name": "python",
   "nbconvert_exporter": "python",
   "pygments_lexer": "ipython3",
   "version": "3.9.7"
  }
 },
 "nbformat": 4,
 "nbformat_minor": 5
}
