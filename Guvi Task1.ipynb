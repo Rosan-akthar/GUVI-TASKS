{
 "cells": [
  {
   "cell_type": "code",
   "execution_count": 22,
   "id": "1780b6a3",
   "metadata": {},
   "outputs": [],
   "source": [
    "import re\n",
    "\n",
    "def Emailcheck(email):\n",
    "    regex = r'\\b[a-zA-Z0-9._%+-]+[@]+[a-zA-Z]+[.]+[a-z|A-Z]{2,}\\b'\n",
    "    checkemail = re.fullmatch(regex, email)\n",
    "    \n",
    "    isvalid = True\n",
    "    if checkemail == None:\n",
    "        isvalid = False\n",
    "        \n",
    "    return isvalid\n",
    "\n",
    "def Pwdcheck(pwd):\n",
    "    regex = '(?=.*[a-z])(?=.*[A-Z])(?=.*[0-9])(?=.*[!@#$%^&*_])[a-zA-Z0-9!@#$%^&*_]{5,16}$' \n",
    "    checkpassword = re.fullmatch(regex, pwd)\n",
    "\n",
    "    isvalid = True\n",
    "    if checkpassword == None:\n",
    "        isvalid = False\n",
    "        \n",
    "    return isvalid"
   ]
  },
  {
   "cell_type": "code",
   "execution_count": 23,
   "id": "34218dc6",
   "metadata": {},
   "outputs": [],
   "source": [
    "def register(email,pwd):\n",
    "    file = open('test1.txt','a')\n",
    "    file.write(email+','+pwd+'\\n')\n",
    "    file.close()\n",
    "        \n"
   ]
  },
  {
   "cell_type": "code",
   "execution_count": 24,
   "id": "8df2761b",
   "metadata": {},
   "outputs": [],
   "source": [
    "def login(email,pwd):\n",
    "    success = False\n",
    "    file = open('test1.txt','r')\n",
    "    for i in file:\n",
    "        a,b = i.split(',')\n",
    "        b = b.strip()\n",
    "        if (a == email and b == pwd):\n",
    "            success = True\n",
    "            break\n",
    "    file.close()\n",
    "        \n",
    "    if success == True:\n",
    "        print('\\nLogin successfull\\n')\n",
    "    else:\n",
    "        print('\\nLogin failed\\n')\n"
   ]
  },
  {
   "cell_type": "code",
   "execution_count": 27,
   "id": "3b5ec7b0",
   "metadata": {},
   "outputs": [
    {
     "name": "stdout",
     "output_type": "stream",
     "text": [
      "Enter the choice:\n",
      "1.Register user\n",
      "2.Login user\n",
      "3.Exit\n",
      "2\n",
      "Enter email address:hello\n",
      "Enter the password:hello\n",
      "\n",
      "Email or password is Invalid\n",
      "\n",
      "Enter the choice:\n",
      "1.Register user\n",
      "2.Login user\n",
      "3.Exit\n",
      "1\n",
      "Enter email address:hello\n",
      "Enter the password:hello\n",
      "Email or password is invalid\n",
      "Enter the choice:\n",
      "1.Register user\n",
      "2.Login user\n",
      "3.Exit\n",
      "3\n"
     ]
    }
   ],
   "source": [
    "while True:\n",
    "    print(\"Enter the choice:\")\n",
    "    print(\"1.Register user\")\n",
    "    print(\"2.Login user\")\n",
    "    print(\"3.Exit\")\n",
    "    choice = int(input())\n",
    "    if choice == 1:\n",
    "        email = input(\"Enter email address:\")\n",
    "        pwd = input(\"Enter the password:\")\n",
    "        validemail = Emailcheck(email)\n",
    "        validpwd = Pwdcheck(pwd)\n",
    "        if validemail and validpwd:\n",
    "            register(email, pwd)\n",
    "            print('Successfully registered')\n",
    "        else:\n",
    "            print('Email or password is invalid')\n",
    "    elif choice == 2:\n",
    "        email = input(\"Enter email address:\")\n",
    "        pwd = input(\"Enter the password:\")\n",
    "        validemail = Emailcheck(email)\n",
    "        validpwd = Pwdcheck(pwd)\n",
    "        if validemail and validpwd:\n",
    "            print('\\nEmail and password is Valid\\n')\n",
    "            login(email, pwd)\n",
    "        else:\n",
    "            print('\\nEmail or password is Invalid\\n')\n",
    "    else:\n",
    "        break\n",
    "        \n"
   ]
  },
  {
   "cell_type": "code",
   "execution_count": null,
   "id": "f2c9b9fe",
   "metadata": {},
   "outputs": [],
   "source": []
  }
 ],
 "metadata": {
  "kernelspec": {
   "display_name": "Python 3 (ipykernel)",
   "language": "python",
   "name": "python3"
  },
  "language_info": {
   "codemirror_mode": {
    "name": "ipython",
    "version": 3
   },
   "file_extension": ".py",
   "mimetype": "text/x-python",
   "name": "python",
   "nbconvert_exporter": "python",
   "pygments_lexer": "ipython3",
   "version": "3.9.7"
  }
 },
 "nbformat": 4,
 "nbformat_minor": 5
}
