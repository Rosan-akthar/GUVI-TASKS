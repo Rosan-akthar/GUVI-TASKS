{
 "cells": [
  {
   "cell_type": "code",
   "execution_count": 39,
   "id": "df081b3b",
   "metadata": {},
   "outputs": [],
   "source": [
    "import pymongo\n",
    "\n",
    "myclient = pymongo.MongoClient(\"mongodb://127.0.0.1:27017/\")\n",
    "\n",
    "mydb = myclient['pymongo']\n",
    "\n",
    "mycollection = mydb['student']\n",
    "\n",
    "mylist = [\n",
    "  { \"Name\": \"Vishwash\", \"Phone\": \"9597686436\", \"Place\":\"Bangalore\"},\n",
    "  { \"Name\": \"Vishesh\", \"Phone\": \"9445687932\", \"Place\":\"Chennai\"},\n",
    "  { \"Name\": \"Shivam\", \"Phone\": \"8569874123\", \"Place\":\"Hyderabad\"},\n",
    "  { \"Name\": \"Yash\", \"Phone\": \"7787165987\", \"Place\":\"Delhi\"},\n",
    "]\n",
    "\n",
    "x = mycollection.insert_many(mylist)"
   ]
  },
  {
   "cell_type": "code",
   "execution_count": 40,
   "id": "77e2e7f8",
   "metadata": {},
   "outputs": [
    {
     "name": "stdout",
     "output_type": "stream",
     "text": [
      "{'_id': ObjectId('635a73263e87c46fdfbddcce'), 'Name': 'Vishwash', 'Phone': '9597686436', 'Place': 'Bangalore'}\n",
      "{'_id': ObjectId('635a73263e87c46fdfbddccf'), 'Name': 'Vishesh', 'Phone': '9445687932', 'Place': 'Chennai'}\n",
      "{'_id': ObjectId('635a73263e87c46fdfbddcd0'), 'Name': 'Shivam', 'Phone': '8569874123', 'Place': 'Hyderabad'}\n",
      "{'_id': ObjectId('635a73263e87c46fdfbddcd1'), 'Name': 'Yash', 'Phone': '7787165987', 'Place': 'Delhi'}\n"
     ]
    }
   ],
   "source": [
    "for i in mycollection.find():\n",
    "    print(i)"
   ]
  },
  {
   "cell_type": "code",
   "execution_count": 41,
   "id": "25a35fa9",
   "metadata": {},
   "outputs": [
    {
     "data": {
      "text/plain": [
       "<pymongo.results.UpdateResult at 0x1613f9412e0>"
      ]
     },
     "execution_count": 41,
     "metadata": {},
     "output_type": "execute_result"
    }
   ],
   "source": [
    "myquery = {\"Place\": \"Delhi\"}\n",
    "newvalue = {\"$set\" :{\"Place\":\"Mumbai\"}}\n",
    "\n",
    "mycollection.update_one(myquery,newvalue)"
   ]
  },
  {
   "cell_type": "code",
   "execution_count": 42,
   "id": "540dba1d",
   "metadata": {},
   "outputs": [
    {
     "name": "stdout",
     "output_type": "stream",
     "text": [
      "{'_id': ObjectId('635a73263e87c46fdfbddcce'), 'Name': 'Vishwash', 'Phone': '9597686436', 'Place': 'Bangalore'}\n",
      "{'_id': ObjectId('635a73263e87c46fdfbddccf'), 'Name': 'Vishesh', 'Phone': '9445687932', 'Place': 'Chennai'}\n",
      "{'_id': ObjectId('635a73263e87c46fdfbddcd0'), 'Name': 'Shivam', 'Phone': '8569874123', 'Place': 'Hyderabad'}\n",
      "{'_id': ObjectId('635a73263e87c46fdfbddcd1'), 'Name': 'Yash', 'Phone': '7787165987', 'Place': 'Mumbai'}\n"
     ]
    }
   ],
   "source": [
    "for i in mycollection.find():\n",
    "    print(i)"
   ]
  },
  {
   "cell_type": "code",
   "execution_count": 43,
   "id": "66bbd2a6",
   "metadata": {},
   "outputs": [
    {
     "data": {
      "text/plain": [
       "<pymongo.results.DeleteResult at 0x1613f941970>"
      ]
     },
     "execution_count": 43,
     "metadata": {},
     "output_type": "execute_result"
    }
   ],
   "source": [
    "myquery = {\"Place\":\"Hyderabad\"}\n",
    "\n",
    "mycollection.delete_one(myquery)"
   ]
  },
  {
   "cell_type": "code",
   "execution_count": 44,
   "id": "f787bcb2",
   "metadata": {},
   "outputs": [
    {
     "name": "stdout",
     "output_type": "stream",
     "text": [
      "{'_id': ObjectId('635a73263e87c46fdfbddcce'), 'Name': 'Vishwash', 'Phone': '9597686436', 'Place': 'Bangalore'}\n",
      "{'_id': ObjectId('635a73263e87c46fdfbddccf'), 'Name': 'Vishesh', 'Phone': '9445687932', 'Place': 'Chennai'}\n",
      "{'_id': ObjectId('635a73263e87c46fdfbddcd1'), 'Name': 'Yash', 'Phone': '7787165987', 'Place': 'Mumbai'}\n"
     ]
    }
   ],
   "source": [
    "for i in mycollection.find():\n",
    "    print(i)"
   ]
  }
 ],
 "metadata": {
  "kernelspec": {
   "display_name": "Python 3 (ipykernel)",
   "language": "python",
   "name": "python3"
  },
  "language_info": {
   "codemirror_mode": {
    "name": "ipython",
    "version": 3
   },
   "file_extension": ".py",
   "mimetype": "text/x-python",
   "name": "python",
   "nbconvert_exporter": "python",
   "pygments_lexer": "ipython3",
   "version": "3.9.7"
  }
 },
 "nbformat": 4,
 "nbformat_minor": 5
}
