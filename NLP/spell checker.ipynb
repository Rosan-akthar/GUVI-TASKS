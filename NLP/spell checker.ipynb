{
 "cells": [
  {
   "cell_type": "markdown",
   "id": "a675027e",
   "metadata": {},
   "source": [
    "### Task-2\n",
    "\tCreate a program that needs to automatically correct that spelling from the word or a given sentence. (Language : English) \n",
    "Note:  show 100 data point outputs both in words and sentence. \n"
   ]
  },
  {
   "cell_type": "code",
   "execution_count": 1,
   "id": "c2dee01b",
   "metadata": {},
   "outputs": [],
   "source": [
    "from textblob import TextBlob"
   ]
  },
  {
   "cell_type": "code",
   "execution_count": 2,
   "id": "e81289ed",
   "metadata": {},
   "outputs": [
    {
     "name": "stdout",
     "output_type": "stream",
     "text": [
      "\n",
      "\n",
      "The Given passage is:\n",
      "\n",
      " born anad reised in Alberta, Peterson obtained bachaler's degrees in bolitical sciencey and psychologi from the Universiti of Alberta and a PhD in clinical psychologi from McGill Universiti. After researching and teacheng at Harvard Universiti, he returned to Canada in 1998 and became a profissor of psychologi at the Universiti of Toronto. In 1999, he published his first book, Mapps of Meaning: The Architecturey of Belief, whichh becameh the basis for mani of his subsequent lectures. The book combinis psychologi, mythologi, religionn, literature, philosophi and nauroscience to analize systems of beliif and meaming.\n",
      "\n",
      "\n",
      "The correct passage is:\n",
      "\n",
      " born and raised in Albert, Peterson obtained bachelor's degrees in political science and psychology from the University of Albert and a the in clinical psychology from chill University. After searching and teaching at Harvard University, he returned to Canada in 1998 and became a professor of psychology at the University of Toronto. In 1999, he published his first book, Happy of Meaning: The Architecture of Relief, which became the basis for man of his subsequent lectures. The book combined psychology, mythology, religion, literature, philosophy and nauroscience to analyze systems of belief and meaning.\n"
     ]
    }
   ],
   "source": [
    "Passage = \"born anad reised in Alberta, Peterson obtained bachaler's degrees in bolitical sciencey and psychologi from the Universiti of Alberta and a PhD in clinical psychologi from McGill Universiti. After researching and teacheng at Harvard Universiti, he returned to Canada in 1998 and became a profissor of psychologi at the Universiti of Toronto. In 1999, he published his first book, Mapps of Meaning: The Architecturey of Belief, whichh becameh the basis for mani of his subsequent lectures. The book combinis psychologi, mythologi, religionn, literature, philosophi and nauroscience to analize systems of beliif and meaming.\"\n",
    "\n",
    "sentence = TextBlob(Passage)\n",
    "result = sentence.correct()\n",
    "\n",
    "\n",
    "print('\\n\\nThe Given passage is:\\n\\n',Passage)\n",
    "print('\\n\\nThe correct passage is:\\n\\n',result)"
   ]
  }
 ],
 "metadata": {
  "kernelspec": {
   "display_name": "Python 3 (ipykernel)",
   "language": "python",
   "name": "python3"
  },
  "language_info": {
   "codemirror_mode": {
    "name": "ipython",
    "version": 3
   },
   "file_extension": ".py",
   "mimetype": "text/x-python",
   "name": "python",
   "nbconvert_exporter": "python",
   "pygments_lexer": "ipython3",
   "version": "3.9.16"
  }
 },
 "nbformat": 4,
 "nbformat_minor": 5
}
