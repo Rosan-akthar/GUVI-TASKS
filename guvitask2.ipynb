{
 "cells": [
  {
   "cell_type": "markdown",
   "id": "4b9a09db",
   "metadata": {},
   "source": [
    "mongoimport --db guvitask2 --collection studentdb --file students.json"
   ]
  },
  {
   "cell_type": "code",
   "execution_count": null,
   "id": "66037a02",
   "metadata": {},
   "outputs": [],
   "source": [
    "#1)Find the student name who scored maximum scores in all (exam, quiz and homework)?\n",
    "\n",
    "\n",
    "db.student.aggregate([    {     $group: {       _id: \"$_id\",       data: {         $push: \"$$ROOT\"       }     }   },   {     $unwind: \"$data\"   },   {     $match: {      \"data.scores.0.score\": {$gte: 90}, \"data.scores.1.score\": {$gte: 90},\"data.scores.2.score\": {$gte: 90}, \"data.scores.type\": \"exam\"     }   },   {     $project: {       _id: 1,       name: \"$data.name\",       scores: \"$data.scores.score\"     }   }]).pretty()"
   ]
  },
  {
   "cell_type": "code",
   "execution_count": null,
   "id": "84f9b3e3",
   "metadata": {},
   "outputs": [],
   "source": [
    "#2)Find students who scored below average in the exam and pass mark is 40%?\n",
    "\n",
    "\n",
    "db.student.find({\"scores.0.score\":{$lt:40}}).pretty()"
   ]
  },
  {
   "cell_type": "code",
   "execution_count": null,
   "id": "75f62876",
   "metadata": {},
   "outputs": [],
   "source": [
    "#3)Find students who scored below pass mark and assigned them as fail, and above pass mark as pass in all the categories.\n",
    "\n",
    "#3)A)  \n",
    "var pass = db.student.aggregate([    {     $group: {       _id: \"$_id\",       data: {         $push: \"$$ROOT\"       }     }   },   {     $unwind: \"$data\"   },   {     $match: {      \"data.scores.0.score\": {$gte: 40}, \"data.scores.1.score\": {$gte: 40},\"data.scores.2.score\": {$gte: 40}, \"data.scores.type\": \"exam\"     }   },   {     $project: {       _id: 1,       name: \"$data.name\",       scores: \"$data.scores.score\"     }   }]).pretty()\n",
    "\n",
    "#3)B)\n",
    "var fail = db.student.aggregate([    {     $group: {       _id: \"$_id\",       data: {         $push: \"$$ROOT\"       }     }   },   {     $unwind: \"$data\"   },   {     $match: {      \"data.scores.0.score\": {$lt: 40}, \"data.scores.1.score\": {$lt: 40},\"data.scores.2.score\": {$lt: 40}, \"data.scores.type\": \"exam\"     }   },   {     $project: {       _id: 1,       name: \"$data.name\",       scores: \"$data.scores.score\"     }   }]).pretty()"
   ]
  },
  {
   "cell_type": "code",
   "execution_count": null,
   "id": "8176d4e0",
   "metadata": {},
   "outputs": [],
   "source": [
    "#4)Find the total and average of the exam, quiz and homework and store them in a separate collection.\n",
    "\n",
    "db.student.aggregate([{$group: {\"_id\":null,totalofexam: {$sum:{$arrayElemAt:[\"$scores.score\", 0]}},totalofquiz:{$sum:{$arrayElemAt:[\"$scores.score\",1]}},totalofhomework:{$sum:{$arrayElemAt:[\"$scores.score\",2]}}, averageofexam: {$avg:{$arrayElemAt:[\"$scores.score\", 0]}},averageofquiz:{$avg:{$arrayElemAt:[\"$scores.score\",1]}},averageofhomework:{$avg:{$arrayElemAt:[\"$scores.score\",2]}}}},{$out:\"totalandavg\"}])"
   ]
  },
  {
   "cell_type": "code",
   "execution_count": null,
   "id": "b89d36a0",
   "metadata": {},
   "outputs": [],
   "source": [
    "#5)Create a new collection which consists of students who scored below average and above 40% in all the categories.\n",
    "\n"
   ]
  },
  {
   "cell_type": "code",
   "execution_count": null,
   "id": "3bfc3ae0",
   "metadata": {},
   "outputs": [],
   "source": [
    "#6)Create a new collection which consists of students who scored below the fail mark in all the categories.\n",
    "\n",
    "db.student.aggregate([    {     $group: {       _id: \"$_id\",       data: {         $push: \"$$ROOT\"       }     }   },   {     $unwind: \"$data\"   },   {     $match: {      \"data.scores.0.score\": {$lt: 40}, \"data.scores.1.score\": {$lt: 40},\"data.scores.2.score\": {$lt: 40}, \"data.scores.type\": \"exam\"     }   },   {     $project: {       _id: 1,       name: \"$data.name\",       scores: \"$data.scores.score\"     } },{$out:\"fail\"}])"
   ]
  },
  {
   "cell_type": "code",
   "execution_count": null,
   "id": "52b26299",
   "metadata": {},
   "outputs": [],
   "source": [
    "#7)Create a new collection which consists of students who scored above pass mark in all the categories.\n",
    "\n",
    "db.student.aggregate([    {     $group: {       _id: \"$_id\",       data: {         $push: \"$$ROOT\"       }     }   },   {     $unwind: \"$data\"   },   {     $match: {      \"data.scores.0.score\": {$gte: 40}, \"data.scores.1.score\": {$gte: 40},\"data.scores.2.score\": {$gte: 40}, \"data.scores.type\": \"exam\"     }   },   {     $project: {       _id: 1,       name: \"$data.name\",       scores: \"$data.scores.score\"     }   },{$out:\"pass\"}])"
   ]
  }
 ],
 "metadata": {
  "kernelspec": {
   "display_name": "Python 3 (ipykernel)",
   "language": "python",
   "name": "python3"
  },
  "language_info": {
   "codemirror_mode": {
    "name": "ipython",
    "version": 3
   },
   "file_extension": ".py",
   "mimetype": "text/x-python",
   "name": "python",
   "nbconvert_exporter": "python",
   "pygments_lexer": "ipython3",
   "version": "3.9.7"
  }
 },
 "nbformat": 4,
 "nbformat_minor": 5
}
