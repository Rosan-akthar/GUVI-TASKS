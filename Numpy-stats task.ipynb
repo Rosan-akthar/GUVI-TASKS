{
 "cells": [
  {
   "cell_type": "markdown",
   "id": "4efc2e5a",
   "metadata": {},
   "source": [
    "1. The most basic kind of broadcast is with a scalar, in which you can perform a binary\n",
    "operation (e.g., add, multiply, ...) on an array and a scalar, the effect is to perform that\n",
    "operation with the scalar for every element of the array. To try this out, create a vector\n",
    "1, 2, . . . , 10 by adding 1 to the result of the arange function.\n"
   ]
  },
  {
   "cell_type": "code",
   "execution_count": 4,
   "id": "cfd69ff2",
   "metadata": {},
   "outputs": [
    {
     "name": "stdout",
     "output_type": "stream",
     "text": [
      "[ 1  2  3  4  5  6  7  8  9 10]\n",
      "[ 6  7  8  9 10 11 12 13 14 15]\n",
      "[ 5 10 15 20 25 30 35 40 45 50]\n"
     ]
    }
   ],
   "source": [
    "import numpy as np\n",
    "\n",
    "a = np.arange(1,10+1,1)\n",
    "\n",
    "b = a + 5\n",
    "c = a * 5\n",
    "print(a)\n",
    "print(b)\n",
    "print(c)"
   ]
  },
  {
   "cell_type": "markdown",
   "id": "ab67b179",
   "metadata": {},
   "source": [
    "2. Now, create a 10 × 10 matrix A in which A[i][j] = i + j. You’ll be able to do this using\n",
    "the vector you just created, and adding it to a reshaped version of itself"
   ]
  },
  {
   "cell_type": "code",
   "execution_count": 5,
   "id": "2e03516b",
   "metadata": {},
   "outputs": [
    {
     "name": "stdout",
     "output_type": "stream",
     "text": [
      "[[  1   2   3   4   5   6   7   8   9  10]\n",
      " [ 11  12  13  14  15  16  17  18  19  20]\n",
      " [ 21  22  23  24  25  26  27  28  29  30]\n",
      " [ 31  32  33  34  35  36  37  38  39  40]\n",
      " [ 41  42  43  44  45  46  47  48  49  50]\n",
      " [ 51  52  53  54  55  56  57  58  59  60]\n",
      " [ 61  62  63  64  65  66  67  68  69  70]\n",
      " [ 71  72  73  74  75  76  77  78  79  80]\n",
      " [ 81  82  83  84  85  86  87  88  89  90]\n",
      " [ 91  92  93  94  95  96  97  98  99 100]]\n"
     ]
    }
   ],
   "source": [
    "import numpy as np\n",
    "\n",
    "data = np.arange(1,101,1)\n",
    "\n",
    "hello = data.reshape(10,10)\n",
    "\n",
    "print(hello)"
   ]
  },
  {
   "cell_type": "markdown",
   "id": "49b1b531",
   "metadata": {},
   "source": [
    "3.A very common use of broadcasting is to standardize data, i.e., to make it have zero\n",
    "mean and unit variance.\n",
    "a. First, create a fake “data set” with 50 examples, each with five dimensions.\n",
    "b. import numpy.random as npr\n",
    "data = np.exp ( npr.randn(50, 5) )\n",
    "c. Don’t worry too much about what this code is doing at this stage of the\n",
    "course, but for completeness: it imports the NumPy random number\n",
    "generation library, then generates a 50 × 5 matrix of standard normal random\n",
    "variates and exponentiates them. The effect of this is to have a pretend data\n",
    "set of 50 independent and identically-distributed vectors from a log-normal\n",
    "distribution.\n"
   ]
  },
  {
   "cell_type": "code",
   "execution_count": 6,
   "id": "597c3b76",
   "metadata": {},
   "outputs": [
    {
     "name": "stdout",
     "output_type": "stream",
     "text": [
      "[[ 5.18866411  2.352965    1.48376812  0.60539364  9.2302842 ]\n",
      " [ 1.59122099  1.6984785   0.42350885  4.40984792  2.4390028 ]\n",
      " [ 0.58215418  3.55258143  0.14732735  0.96427607  1.31813292]\n",
      " [ 0.32220249 17.44333684  0.851946    0.8164574   0.41064193]\n",
      " [ 2.50182313  0.39716984  2.92228589  0.54840963  2.53432058]\n",
      " [ 1.69027985  0.51443314  1.31115273  0.23495995 10.19883902]\n",
      " [ 1.50453259  1.3074759   1.6758646   7.42835447  0.47914495]\n",
      " [ 3.79375233  0.57511265  0.32787424  5.61830812  0.4379874 ]\n",
      " [ 0.07894427  2.25566986  2.65404478  1.32116584  0.75722304]\n",
      " [ 1.50104579  1.41403358  0.69244101  0.39699319  0.26667283]\n",
      " [ 2.79430602  0.53465988  0.23913093  2.363038    4.63705192]\n",
      " [ 2.09360892  0.48506786  3.61376358  1.38364853  1.15784539]\n",
      " [ 2.33770913  0.31712866  0.8638706   0.29787352  0.64792461]\n",
      " [ 0.50706237  2.60281456  3.74812832  1.93391952  1.47529909]\n",
      " [ 1.59634454  0.25366582  1.85624731  0.10194781  1.37678102]\n",
      " [ 1.94470911  0.20677092  2.81585171  0.39472373  2.73150785]\n",
      " [ 0.88009962  0.82341747  0.37424875  1.61125971  1.21846021]\n",
      " [ 0.63996918  3.56362649  1.30061839  2.88031966  2.63176996]\n",
      " [ 1.2115847   0.85281649  3.35466903  1.75263522  1.030633  ]\n",
      " [ 2.76766043  4.67691839  0.28384072  0.90759728  0.78245882]\n",
      " [ 1.83973663  1.94984109  1.48015521  2.16309396  0.41801405]\n",
      " [ 0.24571964  1.30669225  0.11094737  0.53084209  4.11776496]\n",
      " [ 1.75299164  1.0699018   0.43987378  0.80981594  0.2687249 ]\n",
      " [ 0.99983321  0.68118521  2.89439765  1.49391851  0.29886032]\n",
      " [ 0.1366849   0.69207605  1.51833932  1.99919251  2.55779294]\n",
      " [ 2.30097871  0.40154014  0.75063054  2.68029969  0.48504169]\n",
      " [ 0.18938536  0.29754569  0.21183912  1.09032344  0.80418811]\n",
      " [ 5.10461739  0.71205183  0.44454997  0.8750396   0.30774684]\n",
      " [ 3.50327138  0.30617352  0.70375056  0.7080473   2.9689641 ]\n",
      " [ 1.37079479  0.35472396  1.71478579  0.83566129  1.22023271]\n",
      " [ 0.29436307  0.15322555  2.50970724  0.36249111  1.80227303]\n",
      " [ 1.29954702  0.33862562  1.10940414  2.55212232  5.90804448]\n",
      " [ 1.78402073 13.19130411  1.23207683  1.34937638  0.41650521]\n",
      " [ 0.96503931  1.45222132  2.65154281  1.80480828  1.90174048]\n",
      " [ 2.31235924  0.38072842  2.25300576  0.60967397  1.77304757]\n",
      " [ 0.29077939  1.00932326  1.6514201   1.28040828  1.41890416]\n",
      " [ 1.56450691  3.11918104  0.74125077  3.51856116 14.1809696 ]\n",
      " [ 0.76694337  0.77284336  0.13319066  0.63186837  2.96497471]\n",
      " [ 0.35973225  2.71645225  0.5548524   1.36006369  2.39839699]\n",
      " [ 2.1812254   0.12855727  0.40790339  4.9675845   1.45425311]\n",
      " [ 0.28628287  0.28818798  2.21987043  1.85639491  1.81219734]\n",
      " [ 2.54058841  3.75132333  0.38949945  1.23313543  0.11217938]\n",
      " [ 0.51651985  0.3454915   4.31067399  4.52260693  0.70967983]\n",
      " [ 3.79241751  0.54473167  1.26703979  0.29554013  0.10057694]\n",
      " [ 1.19523196  0.90320757  1.55890795  0.79777909  0.69912723]\n",
      " [ 1.08752928  0.50767513  0.21402822  0.83682788  0.66214008]\n",
      " [ 2.95617021  0.14197375  0.62357058  1.46733855  1.60368777]\n",
      " [ 1.71242412  0.97281455  0.56090598  1.386673    5.22559256]\n",
      " [ 9.00842523  0.3685964   1.86353575  0.55544714  0.2707383 ]\n",
      " [ 4.8470248   7.08166342  0.58554413  0.20687779  4.9201365 ]]\n"
     ]
    }
   ],
   "source": [
    "import numpy.random as npr\n",
    "import numpy as np\n",
    "data = np.exp ( npr.randn(50, 5) )\n",
    "\n",
    "print(data)"
   ]
  },
  {
   "cell_type": "markdown",
   "id": "e6b2f4ec",
   "metadata": {},
   "source": [
    "4.Now, compute the mean and standard deviation of each column. This should result in\n",
    "two vectors of length 5. You’ll need to think a little bit about how to use the axis\n",
    "argument to mean and std. Store these vectors into variables and print both of them.\n"
   ]
  },
  {
   "cell_type": "code",
   "execution_count": 7,
   "id": "c240aa05",
   "metadata": {},
   "outputs": [
    {
     "name": "stdout",
     "output_type": "stream",
     "text": [
      "[1.50941384 1.57327682 1.95032629 1.24619085 1.84911509]\n",
      "[1.26835576 1.8869329  2.18906068 1.21639885 2.75330746]\n"
     ]
    }
   ],
   "source": [
    "import numpy.random as npr\n",
    "import numpy as np\n",
    "data = np.exp ( npr.randn(50, 5) )\n",
    "\n",
    "mean_col = np.mean(data,axis=0)\n",
    "print(mean_col)\n",
    "std_col = np.std(data,axis=0)\n",
    "print(std_col)"
   ]
  },
  {
   "cell_type": "markdown",
   "id": "db543d1e",
   "metadata": {},
   "source": [
    "5.Now standardize the data matrix by 1) subtracting the mean off of each column, and\n",
    "2)dividing each column by its standard deviation. Do this via broadcasting, and store\n",
    "the result in a matrix called normalized. To verify that you successfully did it, compute\n",
    "the mean and standard deviation of the columns of normalized and print them out."
   ]
  },
  {
   "cell_type": "code",
   "execution_count": null,
   "id": "08a94301",
   "metadata": {},
   "outputs": [],
   "source": [
    "import numpy.random as npr\n",
    "import numpy as np\n",
    "data = np.exp ( npr.randn(50, 5) )\n",
    "\n",
    "mean_col = np.mean(data,axis=0)\n",
    "print(mean_col)\n",
    "std_col = np.std(data,axis=0)\n",
    "print(std_col)\n",
    "\n",
    "normalized = (data - mean_col) / std_col\n",
    "print(normalized)\n",
    "\n",
    "\n",
    "#alternative method\n",
    "'''normalised = (data - np.mean(data, axis=0)) / np.std(data, axis=0)\n",
    "print(normalised)'''\n",
    "\n",
    "mean_of_normalized = np.mean(normalized,axis = 0)\n",
    "print(mean_of_normalized)\n",
    "\n",
    "std_of_normalized = np.std(normalized,axis = 0)\n",
    "print(std_of_normalized)"
   ]
  },
  {
   "cell_type": "markdown",
   "id": "5ec82ae4",
   "metadata": {},
   "source": [
    "Aim: Performing the Hypothesis testing using the Chi-squared test\n",
    "The table below is a survey response to 4 categorical variables: people in categories from\n",
    "18–29, 30–44, 45–64 and >65 years, and their movie genre inclination, which is\n",
    "“Action/Adventure”, “Romance” and “Biography”. Is there any evidence of a relationship\n",
    "between the age group and their movie genre inclination, at 5% significance level?"
   ]
  },
  {
   "cell_type": "code",
   "execution_count": 3,
   "id": "fa0d1598",
   "metadata": {},
   "outputs": [
    {
     "name": "stdout",
     "output_type": "stream",
     "text": [
      "chi square-score is: 24.367421717305202\n",
      "p value is 0.0004469083391495099\n",
      "Null Hypothesis is rejected.\n"
     ]
    }
   ],
   "source": [
    "import pandas as pd\n",
    "import scipy.stats as stats\n",
    "\n",
    "# create sample data according to survey\n",
    "data = [['18-29', 'Action/Adventure'] for i in range(141)] + \\\n",
    "        [['18-29', ' Romance '] for i in range(68)] + \\\n",
    "        [['18-29', 'Biography'] for i in range(4)] + \\\n",
    "        [['30-44', 'Action/Adventure'] for i in range(179)] + \\\n",
    "        [['30-44', ' Romance '] for i in range(159)] + \\\n",
    "        [['30-44', 'Biography'] for i in range(7)] + \\\n",
    "        [['45-65', 'Action/Adventure'] for i in range(220)] + \\\n",
    "        [['45-65', ' Romance '] for i in range(216)] + \\\n",
    "        [['45-65', 'Biography'] for i in range(4)] + \\\n",
    "        [['65 & older', 'Action/Adventure'] for i in range(86)] + \\\n",
    "        [['65 & older', ' Romance '] for i in range(101)] + \\\n",
    "        [['65 & older', 'Biography'] for i in range(4)]\n",
    "df = pd.DataFrame(data, columns = ['Age Group', 'Genre']) \n",
    "\n",
    "# create contingency table\n",
    "data_crosstab = pd.crosstab(df['Age Group'],\n",
    "                            df['Genre'],\n",
    "                           margins=True, margins_name=\"Total\")\n",
    "\n",
    "\n",
    "# significance level\n",
    "alpha = 0.05\n",
    "\n",
    "# Calcualtion of Chisquare\n",
    "chi_square = 0\n",
    "rows = df['Age Group'].unique()\n",
    "columns = df['Genre'].unique()\n",
    "for i in columns:\n",
    "    for j in rows:\n",
    "        O = data_crosstab[i][j]\n",
    "        E = data_crosstab[i]['Total'] * data_crosstab['Total'][j] / data_crosstab['Total']['Total']\n",
    "        chi_square += (O-E)**2/E\n",
    "\n",
    "# The p-value approach\n",
    "p_value = 1 - stats.chi2.cdf(chi_square, (len(rows)-1)*(len(columns)-1))\n",
    "conclusion = \"Failed to reject the null hypothesis.\"\n",
    "if p_value <= alpha:\n",
    "    conclusion = \"Null Hypothesis is rejected.\"\n",
    "        \n",
    "print(\"chi square-score is:\", chi_square)\n",
    "print('p value is',p_value)\n",
    "print(conclusion)\n"
   ]
  }
 ],
 "metadata": {
  "kernelspec": {
   "display_name": "Python 3 (ipykernel)",
   "language": "python",
   "name": "python3"
  },
  "language_info": {
   "codemirror_mode": {
    "name": "ipython",
    "version": 3
   },
   "file_extension": ".py",
   "mimetype": "text/x-python",
   "name": "python",
   "nbconvert_exporter": "python",
   "pygments_lexer": "ipython3",
   "version": "3.9.7"
  }
 },
 "nbformat": 4,
 "nbformat_minor": 5
}
