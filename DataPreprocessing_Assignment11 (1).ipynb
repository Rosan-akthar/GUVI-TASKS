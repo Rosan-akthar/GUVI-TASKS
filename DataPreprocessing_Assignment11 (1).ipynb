{
 "cells": [
  {
   "cell_type": "code",
   "execution_count": 1,
   "metadata": {
    "id": "IUjqX9hqbb-6"
   },
   "outputs": [],
   "source": [
    "#Data.csv"
   ]
  },
  {
   "cell_type": "markdown",
   "metadata": {
    "id": "AketbKR7cAaF"
   },
   "source": [
    "**Step 1: Importing the libraries**"
   ]
  },
  {
   "cell_type": "code",
   "execution_count": 2,
   "metadata": {
    "id": "_ApieS21bdbN"
   },
   "outputs": [],
   "source": [
    "import pandas as pd\n",
    "import numpy as np\n",
    "from sklearn import preprocessing"
   ]
  },
  {
   "cell_type": "code",
   "execution_count": 3,
   "metadata": {
    "id": "U8Pa9Cx_bdgh"
   },
   "outputs": [],
   "source": [
    "from sklearn.preprocessing import LabelEncoder\n",
    "from sklearn.model_selection import train_test_split"
   ]
  },
  {
   "cell_type": "markdown",
   "metadata": {
    "id": "Gq1_kSwHcH4n"
   },
   "source": [
    "**Step 2: Importing dataset**"
   ]
  },
  {
   "cell_type": "code",
   "execution_count": 4,
   "metadata": {
    "id": "HefV9KfcbdoE"
   },
   "outputs": [],
   "source": [
    "df = pd.read_csv('Data.csv')"
   ]
  },
  {
   "cell_type": "markdown",
   "metadata": {
    "id": "FxaiAQCQcX7Z"
   },
   "source": [
    "**Step 3: Handling the missing data**"
   ]
  },
  {
   "cell_type": "code",
   "execution_count": 5,
   "metadata": {
    "id": "veMJJywXbdr-"
   },
   "outputs": [
    {
     "data": {
      "text/html": [
       "<div>\n",
       "<style scoped>\n",
       "    .dataframe tbody tr th:only-of-type {\n",
       "        vertical-align: middle;\n",
       "    }\n",
       "\n",
       "    .dataframe tbody tr th {\n",
       "        vertical-align: top;\n",
       "    }\n",
       "\n",
       "    .dataframe thead th {\n",
       "        text-align: right;\n",
       "    }\n",
       "</style>\n",
       "<table border=\"1\" class=\"dataframe\">\n",
       "  <thead>\n",
       "    <tr style=\"text-align: right;\">\n",
       "      <th></th>\n",
       "      <th>Country</th>\n",
       "      <th>Age</th>\n",
       "      <th>Salary</th>\n",
       "      <th>Purchased</th>\n",
       "    </tr>\n",
       "  </thead>\n",
       "  <tbody>\n",
       "    <tr>\n",
       "      <th>0</th>\n",
       "      <td>France</td>\n",
       "      <td>44.0</td>\n",
       "      <td>72000.0</td>\n",
       "      <td>No</td>\n",
       "    </tr>\n",
       "    <tr>\n",
       "      <th>1</th>\n",
       "      <td>Spain</td>\n",
       "      <td>27.0</td>\n",
       "      <td>48000.0</td>\n",
       "      <td>Yes</td>\n",
       "    </tr>\n",
       "    <tr>\n",
       "      <th>2</th>\n",
       "      <td>Germany</td>\n",
       "      <td>30.0</td>\n",
       "      <td>54000.0</td>\n",
       "      <td>No</td>\n",
       "    </tr>\n",
       "    <tr>\n",
       "      <th>3</th>\n",
       "      <td>Spain</td>\n",
       "      <td>38.0</td>\n",
       "      <td>61000.0</td>\n",
       "      <td>No</td>\n",
       "    </tr>\n",
       "    <tr>\n",
       "      <th>4</th>\n",
       "      <td>Germany</td>\n",
       "      <td>40.0</td>\n",
       "      <td>63778.0</td>\n",
       "      <td>Yes</td>\n",
       "    </tr>\n",
       "    <tr>\n",
       "      <th>5</th>\n",
       "      <td>France</td>\n",
       "      <td>35.0</td>\n",
       "      <td>58000.0</td>\n",
       "      <td>Yes</td>\n",
       "    </tr>\n",
       "    <tr>\n",
       "      <th>6</th>\n",
       "      <td>Spain</td>\n",
       "      <td>39.0</td>\n",
       "      <td>52000.0</td>\n",
       "      <td>No</td>\n",
       "    </tr>\n",
       "    <tr>\n",
       "      <th>7</th>\n",
       "      <td>France</td>\n",
       "      <td>48.0</td>\n",
       "      <td>79000.0</td>\n",
       "      <td>Yes</td>\n",
       "    </tr>\n",
       "    <tr>\n",
       "      <th>8</th>\n",
       "      <td>Germany</td>\n",
       "      <td>50.0</td>\n",
       "      <td>83000.0</td>\n",
       "      <td>No</td>\n",
       "    </tr>\n",
       "    <tr>\n",
       "      <th>9</th>\n",
       "      <td>France</td>\n",
       "      <td>37.0</td>\n",
       "      <td>67000.0</td>\n",
       "      <td>Yes</td>\n",
       "    </tr>\n",
       "  </tbody>\n",
       "</table>\n",
       "</div>"
      ],
      "text/plain": [
       "   Country   Age   Salary Purchased\n",
       "0   France  44.0  72000.0        No\n",
       "1    Spain  27.0  48000.0       Yes\n",
       "2  Germany  30.0  54000.0        No\n",
       "3    Spain  38.0  61000.0        No\n",
       "4  Germany  40.0  63778.0       Yes\n",
       "5   France  35.0  58000.0       Yes\n",
       "6    Spain  39.0  52000.0        No\n",
       "7   France  48.0  79000.0       Yes\n",
       "8  Germany  50.0  83000.0        No\n",
       "9   France  37.0  67000.0       Yes"
      ]
     },
     "execution_count": 5,
     "metadata": {},
     "output_type": "execute_result"
    }
   ],
   "source": [
    "Salary_mean = round(df['Salary'].mean())\n",
    "Age_mean = round(df['Age'].mean())\n",
    "df['Salary'] = df['Salary'].fillna(value = Salary_mean)\n",
    "df['Age'] = df['Age'].fillna(value = Age_mean)\n",
    "df"
   ]
  },
  {
   "cell_type": "markdown",
   "metadata": {
    "id": "wBdj7QVmciFh"
   },
   "source": [
    "**Step 4: Encoding categorical data**"
   ]
  },
  {
   "cell_type": "code",
   "execution_count": 6,
   "metadata": {
    "id": "Nbgm4YJBbdwG"
   },
   "outputs": [
    {
     "name": "stdout",
     "output_type": "stream",
     "text": [
      "   Country   Age   Salary Purchased\n",
      "0        0  44.0  72000.0        No\n",
      "1        2  27.0  48000.0       Yes\n",
      "2        1  30.0  54000.0        No\n",
      "3        2  38.0  61000.0        No\n",
      "4        1  40.0  63778.0       Yes\n",
      "5        0  35.0  58000.0       Yes\n",
      "6        2  39.0  52000.0        No\n",
      "7        0  48.0  79000.0       Yes\n",
      "8        1  50.0  83000.0        No\n",
      "9        0  37.0  67000.0       Yes\n"
     ]
    }
   ],
   "source": [
    "le = LabelEncoder()\n",
    "\n",
    "df['Country'] = le.fit_transform(df['Country'])\n",
    "\n",
    "print(df)"
   ]
  },
  {
   "cell_type": "markdown",
   "metadata": {
    "id": "cFSk6n3XcpIs"
   },
   "source": [
    "**Step 5: Creating a dummy variable**"
   ]
  },
  {
   "cell_type": "code",
   "execution_count": 7,
   "metadata": {
    "id": "9ETxfCgZbd0O"
   },
   "outputs": [],
   "source": [
    "df = pd.concat([df,pd.get_dummies(df['Purchased'])],axis = 1)\n"
   ]
  },
  {
   "cell_type": "code",
   "execution_count": 8,
   "metadata": {},
   "outputs": [
    {
     "data": {
      "text/html": [
       "<div>\n",
       "<style scoped>\n",
       "    .dataframe tbody tr th:only-of-type {\n",
       "        vertical-align: middle;\n",
       "    }\n",
       "\n",
       "    .dataframe tbody tr th {\n",
       "        vertical-align: top;\n",
       "    }\n",
       "\n",
       "    .dataframe thead th {\n",
       "        text-align: right;\n",
       "    }\n",
       "</style>\n",
       "<table border=\"1\" class=\"dataframe\">\n",
       "  <thead>\n",
       "    <tr style=\"text-align: right;\">\n",
       "      <th></th>\n",
       "      <th>Country</th>\n",
       "      <th>Age</th>\n",
       "      <th>Salary</th>\n",
       "      <th>No</th>\n",
       "      <th>Yes</th>\n",
       "    </tr>\n",
       "  </thead>\n",
       "  <tbody>\n",
       "    <tr>\n",
       "      <th>0</th>\n",
       "      <td>0</td>\n",
       "      <td>44.0</td>\n",
       "      <td>72000.0</td>\n",
       "      <td>1</td>\n",
       "      <td>0</td>\n",
       "    </tr>\n",
       "    <tr>\n",
       "      <th>1</th>\n",
       "      <td>2</td>\n",
       "      <td>27.0</td>\n",
       "      <td>48000.0</td>\n",
       "      <td>0</td>\n",
       "      <td>1</td>\n",
       "    </tr>\n",
       "    <tr>\n",
       "      <th>2</th>\n",
       "      <td>1</td>\n",
       "      <td>30.0</td>\n",
       "      <td>54000.0</td>\n",
       "      <td>1</td>\n",
       "      <td>0</td>\n",
       "    </tr>\n",
       "    <tr>\n",
       "      <th>3</th>\n",
       "      <td>2</td>\n",
       "      <td>38.0</td>\n",
       "      <td>61000.0</td>\n",
       "      <td>1</td>\n",
       "      <td>0</td>\n",
       "    </tr>\n",
       "    <tr>\n",
       "      <th>4</th>\n",
       "      <td>1</td>\n",
       "      <td>40.0</td>\n",
       "      <td>63778.0</td>\n",
       "      <td>0</td>\n",
       "      <td>1</td>\n",
       "    </tr>\n",
       "    <tr>\n",
       "      <th>5</th>\n",
       "      <td>0</td>\n",
       "      <td>35.0</td>\n",
       "      <td>58000.0</td>\n",
       "      <td>0</td>\n",
       "      <td>1</td>\n",
       "    </tr>\n",
       "    <tr>\n",
       "      <th>6</th>\n",
       "      <td>2</td>\n",
       "      <td>39.0</td>\n",
       "      <td>52000.0</td>\n",
       "      <td>1</td>\n",
       "      <td>0</td>\n",
       "    </tr>\n",
       "    <tr>\n",
       "      <th>7</th>\n",
       "      <td>0</td>\n",
       "      <td>48.0</td>\n",
       "      <td>79000.0</td>\n",
       "      <td>0</td>\n",
       "      <td>1</td>\n",
       "    </tr>\n",
       "    <tr>\n",
       "      <th>8</th>\n",
       "      <td>1</td>\n",
       "      <td>50.0</td>\n",
       "      <td>83000.0</td>\n",
       "      <td>1</td>\n",
       "      <td>0</td>\n",
       "    </tr>\n",
       "    <tr>\n",
       "      <th>9</th>\n",
       "      <td>0</td>\n",
       "      <td>37.0</td>\n",
       "      <td>67000.0</td>\n",
       "      <td>0</td>\n",
       "      <td>1</td>\n",
       "    </tr>\n",
       "  </tbody>\n",
       "</table>\n",
       "</div>"
      ],
      "text/plain": [
       "   Country   Age   Salary  No  Yes\n",
       "0        0  44.0  72000.0   1    0\n",
       "1        2  27.0  48000.0   0    1\n",
       "2        1  30.0  54000.0   1    0\n",
       "3        2  38.0  61000.0   1    0\n",
       "4        1  40.0  63778.0   0    1\n",
       "5        0  35.0  58000.0   0    1\n",
       "6        2  39.0  52000.0   1    0\n",
       "7        0  48.0  79000.0   0    1\n",
       "8        1  50.0  83000.0   1    0\n",
       "9        0  37.0  67000.0   0    1"
      ]
     },
     "execution_count": 8,
     "metadata": {},
     "output_type": "execute_result"
    }
   ],
   "source": [
    "df = df.drop(['Purchased'],axis = 1)\n",
    "df"
   ]
  },
  {
   "cell_type": "markdown",
   "metadata": {
    "id": "QSSKm1p4c2md"
   },
   "source": [
    "**Step 6: Splitting the datasets into training sets and Test sets**"
   ]
  },
  {
   "cell_type": "code",
   "execution_count": 9,
   "metadata": {
    "id": "kw21hHAqbd4x"
   },
   "outputs": [
    {
     "name": "stdout",
     "output_type": "stream",
     "text": [
      "   Country   Age  No  Yes\n",
      "9        0  37.0   0    1\n",
      "1        2  27.0   0    1\n",
      "6        2  39.0   1    0\n",
      "7        0  48.0   0    1\n",
      "3        2  38.0   1    0\n",
      "0        0  44.0   1    0\n",
      "5        0  35.0   0    1 \n",
      " 9    67000.0\n",
      "1    48000.0\n",
      "6    52000.0\n",
      "7    79000.0\n",
      "3    61000.0\n",
      "0    72000.0\n",
      "5    58000.0\n",
      "Name: Salary, dtype: float64 \n",
      "    Country   Age  No  Yes\n",
      "2        1  30.0   1    0\n",
      "8        1  50.0   1    0\n",
      "4        1  40.0   0    1 \n",
      " 2    54000.0\n",
      "8    83000.0\n",
      "4    63778.0\n",
      "Name: Salary, dtype: float64\n"
     ]
    }
   ],
   "source": [
    "x= df.drop('Salary',axis = 1)\n",
    "y = df['Salary']\n",
    "\n",
    "x_train,x_test,y_train,y_test = train_test_split(x,y,test_size = 0.30,random_state = 0)\n",
    "print(x_train,'\\n',y_train,'\\n',x_test,'\\n',y_test)"
   ]
  },
  {
   "cell_type": "markdown",
   "metadata": {
    "id": "YA8VCdb5c9Dh"
   },
   "source": [
    "**Step 7: Feature Scaling**"
   ]
  },
  {
   "cell_type": "code",
   "execution_count": 10,
   "metadata": {
    "id": "LhV2lO1Gbd9l"
   },
   "outputs": [
    {
     "name": "stdout",
     "output_type": "stream",
     "text": [
      "MinMax_x_train [[0.         0.47619048 0.         1.        ]\n",
      " [1.         0.         0.         1.        ]\n",
      " [1.         0.57142857 1.         0.        ]\n",
      " [0.         1.         0.         1.        ]\n",
      " [1.         0.52380952 1.         0.        ]\n",
      " [0.         0.80952381 1.         0.        ]\n",
      " [0.         0.38095238 0.         1.        ]] \n",
      " MinMax_y_train: [[0.61290323]\n",
      " [0.        ]\n",
      " [0.12903226]\n",
      " [1.        ]\n",
      " [0.41935484]\n",
      " [0.77419355]\n",
      " [0.32258065]] \n",
      " MinMax_x_test [[0.  0.  1.  0. ]\n",
      " [0.  1.  1.  0. ]\n",
      " [0.  0.5 0.  1. ]] \n",
      " MinMax_y_test [[0.        ]\n",
      " [1.        ]\n",
      " [0.33717241]]\n"
     ]
    }
   ],
   "source": [
    "MinMax = preprocessing.MinMaxScaler()\n",
    "MinMax_x_train = MinMax.fit_transform(x_train)\n",
    "MinMax_y_train = MinMax.fit_transform(y_train.values.reshape(-1,1))\n",
    "MinMax_x_test =  MinMax.fit_transform(x_test)\n",
    "MinMax_y_test =  MinMax.fit_transform(y_test.values.reshape(-1,1))\n",
    "print('MinMax_x_train',MinMax_x_train,'\\n','MinMax_y_train:',MinMax_y_train,'\\n','MinMax_x_test',MinMax_x_test,'\\n','MinMax_y_test',MinMax_y_test)"
   ]
  },
  {
   "cell_type": "code",
   "execution_count": 11,
   "metadata": {
    "id": "zRwvGcTdbeCd"
   },
   "outputs": [
    {
     "name": "stdout",
     "output_type": "stream",
     "text": [
      "Scaler_x_train [[-0.8660254  -0.20801257 -0.8660254   0.8660254 ]\n",
      " [ 1.15470054 -1.82588815 -0.8660254   0.8660254 ]\n",
      " [ 1.15470054  0.11556254  1.15470054 -1.15470054]\n",
      " [-0.8660254   1.57165056 -0.8660254   0.8660254 ]\n",
      " [ 1.15470054 -0.04622502  1.15470054 -1.15470054]\n",
      " [-0.8660254   0.92450033  1.15470054 -1.15470054]\n",
      " [-0.8660254  -0.53158769 -0.8660254   0.8660254 ]] \n",
      " Scaler_y_train: [[ 0.44897083]\n",
      " [-1.41706417]\n",
      " [-1.0242147 ]\n",
      " [ 1.62751925]\n",
      " [-0.14030338]\n",
      " [ 0.94003267]\n",
      " [-0.43494049]] \n",
      " Scaler_x_test [[ 0.         -1.22474487  0.70710678 -0.70710678]\n",
      " [ 0.          1.22474487  0.70710678 -0.70710678]\n",
      " [ 0.          0.         -1.41421356  1.41421356]] \n",
      " Scaler_y_test [[-1.07299598]\n",
      " [ 1.33431358]\n",
      " [-0.2613176 ]]\n"
     ]
    }
   ],
   "source": [
    "Scaler = preprocessing.StandardScaler()\n",
    "scaler_x_train = Scaler.fit_transform(x_train)\n",
    "scaler_y_train = Scaler.fit_transform(y_train.values.reshape(-1,1))\n",
    "scaler_x_test =  Scaler.fit_transform(x_test)\n",
    "scaler_y_test =  Scaler.fit_transform(y_test.values.reshape(-1,1))\n",
    "print('Scaler_x_train',scaler_x_train,'\\n','Scaler_y_train:',scaler_y_train,'\\n','Scaler_x_test',scaler_x_test,'\\n','Scaler_y_test',scaler_y_test)"
   ]
  }
 ],
 "metadata": {
  "colab": {
   "name": "DataPreprocessing_Assignment11.ipynb",
   "provenance": []
  },
  "kernelspec": {
   "display_name": "Python 3 (ipykernel)",
   "language": "python",
   "name": "python3"
  },
  "language_info": {
   "codemirror_mode": {
    "name": "ipython",
    "version": 3
   },
   "file_extension": ".py",
   "mimetype": "text/x-python",
   "name": "python",
   "nbconvert_exporter": "python",
   "pygments_lexer": "ipython3",
   "version": "3.9.16"
  }
 },
 "nbformat": 4,
 "nbformat_minor": 1
}
