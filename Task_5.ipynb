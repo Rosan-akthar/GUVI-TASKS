{
 "cells": [
  {
   "cell_type": "markdown",
   "id": "7b4ff02f",
   "metadata": {},
   "source": [
    "**The below code show:**\n",
    "\n",
    "## Detiled information of the given data"
   ]
  },
  {
   "cell_type": "code",
   "execution_count": 1,
   "id": "ed741da1",
   "metadata": {},
   "outputs": [
    {
     "name": "stdout",
     "output_type": "stream",
     "text": [
      "<class 'pandas.core.frame.DataFrame'>\n",
      "RangeIndex: 12000 entries, 0 to 11999\n",
      "Data columns (total 10 columns):\n",
      " #   Column                      Non-Null Count  Dtype         \n",
      "---  ------                      --------------  -----         \n",
      " 0   object_id                   12000 non-null  int64         \n",
      " 1   creation_time               12000 non-null  datetime64[ns]\n",
      " 2   name                        12000 non-null  object        \n",
      " 3   email                       12000 non-null  object        \n",
      " 4   creation_source             12000 non-null  object        \n",
      " 5   last_session_creation_time  8823 non-null   float64       \n",
      " 6   opted_in_to_mailing_list    12000 non-null  int64         \n",
      " 7   enabled_for_marketing_drip  12000 non-null  int64         \n",
      " 8   org_id                      12000 non-null  int64         \n",
      " 9   invited_by_user_id          6417 non-null   float64       \n",
      "dtypes: datetime64[ns](1), float64(2), int64(4), object(3)\n",
      "memory usage: 937.6+ KB\n",
      "None\n",
      "<class 'pandas.core.frame.DataFrame'>\n",
      "RangeIndex: 207917 entries, 0 to 207916\n",
      "Data columns (total 3 columns):\n",
      " #   Column      Non-Null Count   Dtype         \n",
      "---  ------      --------------   -----         \n",
      " 0   time_stamp  207917 non-null  datetime64[ns]\n",
      " 1   user_id     207917 non-null  int64         \n",
      " 2   visited     207917 non-null  int64         \n",
      "dtypes: datetime64[ns](1), int64(2)\n",
      "memory usage: 4.8 MB\n",
      "None\n"
     ]
    }
   ],
   "source": [
    "import pandas as pd\n",
    "\n",
    "users = pd.read_csv('takehome_users.csv',parse_dates=['creation_time'],encoding = 'latin-1')\n",
    "user_eng = pd.read_csv('takehome_user_engagement.csv',parse_dates=['time_stamp'])\n",
    "\n",
    "print(users.info())\n",
    "print(user_eng.info())"
   ]
  },
  {
   "cell_type": "markdown",
   "id": "d26e6694",
   "metadata": {},
   "source": [
    "## 2]  A  usage  summary  table  ( \"takehome_user_engagement\" )  that  has  a  row  for  each  day that  a  user  logged  into  the  product. Defining  an  \"adopted  user\"   as  a  user  who   has  logged  into  the  product  on  three  separate days  in  at  least  one  seven day  period ,  identify  which  factors  predict  future  user adoption"
   ]
  },
  {
   "cell_type": "code",
   "execution_count": 2,
   "id": "9e7eee31",
   "metadata": {},
   "outputs": [
    {
     "name": "stdout",
     "output_type": "stream",
     "text": [
      "                     user_id  visited\n",
      "time_stamp                           \n",
      "2014-04-22 03:53:30        1        1\n",
      "2013-11-15 03:45:04        2        1\n",
      "2013-11-29 03:45:04        2        1\n",
      "2013-12-09 03:45:04        2        1\n",
      "2013-12-25 03:45:04        2        1\n",
      "...                      ...      ...\n",
      "2013-09-06 06:14:15    11996        1\n",
      "2013-01-15 18:28:37    11997        1\n",
      "2014-04-27 12:45:16    11998        1\n",
      "2012-06-02 11:55:59    11999        1\n",
      "2014-01-26 08:57:12    12000        1\n",
      "\n",
      "[207917 rows x 2 columns]\n"
     ]
    }
   ],
   "source": [
    "engage = user_eng.set_index('time_stamp')\n",
    "print(engage)"
   ]
  },
  {
   "cell_type": "code",
   "execution_count": 3,
   "id": "9bfe0709",
   "metadata": {},
   "outputs": [
    {
     "name": "stdout",
     "output_type": "stream",
     "text": [
      "                    user_id  visited\n",
      "user_id time_stamp                  \n",
      "1       2014-04-27        1        1\n",
      "2       2013-11-17        2        1\n",
      "        2013-11-24        0        0\n",
      "        2013-12-01        2        1\n",
      "        2013-12-08        0        0\n",
      "...                     ...      ...\n",
      "11996   2013-09-08    11996        1\n",
      "11997   2013-01-20    11997        1\n",
      "11998   2014-04-27    11998        1\n",
      "11999   2012-06-03    11999        1\n",
      "12000   2014-01-26    12000        1\n",
      "\n",
      "[82282 rows x 2 columns]\n"
     ]
    }
   ],
   "source": [
    "engage = engage.groupby('user_id').resample('1W').sum()\n",
    "print(engage)"
   ]
  },
  {
   "cell_type": "code",
   "execution_count": 4,
   "id": "3ec32d91",
   "metadata": {},
   "outputs": [
    {
     "data": {
      "text/html": [
       "<div>\n",
       "<style scoped>\n",
       "    .dataframe tbody tr th:only-of-type {\n",
       "        vertical-align: middle;\n",
       "    }\n",
       "\n",
       "    .dataframe tbody tr th {\n",
       "        vertical-align: top;\n",
       "    }\n",
       "\n",
       "    .dataframe thead th {\n",
       "        text-align: right;\n",
       "    }\n",
       "</style>\n",
       "<table border=\"1\" class=\"dataframe\">\n",
       "  <thead>\n",
       "    <tr style=\"text-align: right;\">\n",
       "      <th></th>\n",
       "      <th></th>\n",
       "      <th>user_id</th>\n",
       "      <th>visited</th>\n",
       "    </tr>\n",
       "    <tr>\n",
       "      <th>user_id</th>\n",
       "      <th>time_stamp</th>\n",
       "      <th></th>\n",
       "      <th></th>\n",
       "    </tr>\n",
       "  </thead>\n",
       "  <tbody>\n",
       "    <tr>\n",
       "      <th>2</th>\n",
       "      <th>2014-02-09</th>\n",
       "      <td>6</td>\n",
       "      <td>3</td>\n",
       "    </tr>\n",
       "    <tr>\n",
       "      <th rowspan=\"4\" valign=\"top\">10</th>\n",
       "      <th>2013-03-03</th>\n",
       "      <td>30</td>\n",
       "      <td>3</td>\n",
       "    </tr>\n",
       "    <tr>\n",
       "      <th>2013-04-14</th>\n",
       "      <td>30</td>\n",
       "      <td>3</td>\n",
       "    </tr>\n",
       "    <tr>\n",
       "      <th>2013-04-28</th>\n",
       "      <td>30</td>\n",
       "      <td>3</td>\n",
       "    </tr>\n",
       "    <tr>\n",
       "      <th>2013-05-05</th>\n",
       "      <td>40</td>\n",
       "      <td>4</td>\n",
       "    </tr>\n",
       "    <tr>\n",
       "      <th>...</th>\n",
       "      <th>...</th>\n",
       "      <td>...</td>\n",
       "      <td>...</td>\n",
       "    </tr>\n",
       "    <tr>\n",
       "      <th rowspan=\"5\" valign=\"top\">11988</th>\n",
       "      <th>2014-04-06</th>\n",
       "      <td>35964</td>\n",
       "      <td>3</td>\n",
       "    </tr>\n",
       "    <tr>\n",
       "      <th>2014-05-04</th>\n",
       "      <td>47952</td>\n",
       "      <td>4</td>\n",
       "    </tr>\n",
       "    <tr>\n",
       "      <th>2014-05-18</th>\n",
       "      <td>35964</td>\n",
       "      <td>3</td>\n",
       "    </tr>\n",
       "    <tr>\n",
       "      <th>2014-05-25</th>\n",
       "      <td>59940</td>\n",
       "      <td>5</td>\n",
       "    </tr>\n",
       "    <tr>\n",
       "      <th>2014-06-01</th>\n",
       "      <td>35964</td>\n",
       "      <td>3</td>\n",
       "    </tr>\n",
       "  </tbody>\n",
       "</table>\n",
       "<p>33859 rows × 2 columns</p>\n",
       "</div>"
      ],
      "text/plain": [
       "                    user_id  visited\n",
       "user_id time_stamp                  \n",
       "2       2014-02-09        6        3\n",
       "10      2013-03-03       30        3\n",
       "        2013-04-14       30        3\n",
       "        2013-04-28       30        3\n",
       "        2013-05-05       40        4\n",
       "...                     ...      ...\n",
       "11988   2014-04-06    35964        3\n",
       "        2014-05-04    47952        4\n",
       "        2014-05-18    35964        3\n",
       "        2014-05-25    59940        5\n",
       "        2014-06-01    35964        3\n",
       "\n",
       "[33859 rows x 2 columns]"
      ]
     },
     "execution_count": 4,
     "metadata": {},
     "output_type": "execute_result"
    }
   ],
   "source": [
    "adopted = engage[engage['visited']>2]\n",
    "adopted"
   ]
  },
  {
   "cell_type": "code",
   "execution_count": 5,
   "id": "2bbf2429",
   "metadata": {
    "scrolled": true
   },
   "outputs": [
    {
     "data": {
      "text/plain": [
       "33859"
      ]
     },
     "execution_count": 5,
     "metadata": {},
     "output_type": "execute_result"
    }
   ],
   "source": [
    "adopted_index = list(adopted.index)\n",
    "adopted_user_list = []\n",
    "for i in range(len(adopted_index)):\n",
    "    adopted_user_list.append(adopted_index[i][0])\n",
    "    \n",
    "len(adopted_user_list)"
   ]
  },
  {
   "cell_type": "code",
   "execution_count": 6,
   "id": "5076c2ec",
   "metadata": {},
   "outputs": [
    {
     "data": {
      "text/plain": [
       "1445"
      ]
     },
     "execution_count": 6,
     "metadata": {},
     "output_type": "execute_result"
    }
   ],
   "source": [
    "adopted_users = set(adopted_user_list)\n",
    "len(adopted_users)"
   ]
  },
  {
   "cell_type": "code",
   "execution_count": 7,
   "id": "9928d4f4",
   "metadata": {},
   "outputs": [
    {
     "data": {
      "text/html": [
       "<div>\n",
       "<style scoped>\n",
       "    .dataframe tbody tr th:only-of-type {\n",
       "        vertical-align: middle;\n",
       "    }\n",
       "\n",
       "    .dataframe tbody tr th {\n",
       "        vertical-align: top;\n",
       "    }\n",
       "\n",
       "    .dataframe thead th {\n",
       "        text-align: right;\n",
       "    }\n",
       "</style>\n",
       "<table border=\"1\" class=\"dataframe\">\n",
       "  <thead>\n",
       "    <tr style=\"text-align: right;\">\n",
       "      <th></th>\n",
       "      <th>object_id</th>\n",
       "      <th>creation_time</th>\n",
       "      <th>name</th>\n",
       "      <th>email</th>\n",
       "      <th>creation_source</th>\n",
       "      <th>last_session_creation_time</th>\n",
       "      <th>opted_in_to_mailing_list</th>\n",
       "      <th>enabled_for_marketing_drip</th>\n",
       "      <th>org_id</th>\n",
       "      <th>invited_by_user_id</th>\n",
       "      <th>adopted</th>\n",
       "    </tr>\n",
       "  </thead>\n",
       "  <tbody>\n",
       "    <tr>\n",
       "      <th>0</th>\n",
       "      <td>1</td>\n",
       "      <td>2014-04-22 03:53:30</td>\n",
       "      <td>Clausen August</td>\n",
       "      <td>AugustCClausen@yahoo.com</td>\n",
       "      <td>GUEST_INVITE</td>\n",
       "      <td>1.398139e+09</td>\n",
       "      <td>1</td>\n",
       "      <td>0</td>\n",
       "      <td>11</td>\n",
       "      <td>10803.0</td>\n",
       "      <td>False</td>\n",
       "    </tr>\n",
       "    <tr>\n",
       "      <th>1</th>\n",
       "      <td>2</td>\n",
       "      <td>2013-11-15 03:45:04</td>\n",
       "      <td>Poole Matthew</td>\n",
       "      <td>MatthewPoole@gustr.com</td>\n",
       "      <td>ORG_INVITE</td>\n",
       "      <td>1.396238e+09</td>\n",
       "      <td>0</td>\n",
       "      <td>0</td>\n",
       "      <td>1</td>\n",
       "      <td>316.0</td>\n",
       "      <td>False</td>\n",
       "    </tr>\n",
       "    <tr>\n",
       "      <th>2</th>\n",
       "      <td>3</td>\n",
       "      <td>2013-03-19 23:14:52</td>\n",
       "      <td>Bottrill Mitchell</td>\n",
       "      <td>MitchellBottrill@gustr.com</td>\n",
       "      <td>ORG_INVITE</td>\n",
       "      <td>1.363735e+09</td>\n",
       "      <td>0</td>\n",
       "      <td>0</td>\n",
       "      <td>94</td>\n",
       "      <td>1525.0</td>\n",
       "      <td>True</td>\n",
       "    </tr>\n",
       "    <tr>\n",
       "      <th>3</th>\n",
       "      <td>4</td>\n",
       "      <td>2013-05-21 08:09:28</td>\n",
       "      <td>Clausen Nicklas</td>\n",
       "      <td>NicklasSClausen@yahoo.com</td>\n",
       "      <td>GUEST_INVITE</td>\n",
       "      <td>1.369210e+09</td>\n",
       "      <td>0</td>\n",
       "      <td>0</td>\n",
       "      <td>1</td>\n",
       "      <td>5151.0</td>\n",
       "      <td>False</td>\n",
       "    </tr>\n",
       "    <tr>\n",
       "      <th>4</th>\n",
       "      <td>5</td>\n",
       "      <td>2013-01-17 10:14:20</td>\n",
       "      <td>Raw Grace</td>\n",
       "      <td>GraceRaw@yahoo.com</td>\n",
       "      <td>GUEST_INVITE</td>\n",
       "      <td>1.358850e+09</td>\n",
       "      <td>0</td>\n",
       "      <td>0</td>\n",
       "      <td>193</td>\n",
       "      <td>5240.0</td>\n",
       "      <td>False</td>\n",
       "    </tr>\n",
       "    <tr>\n",
       "      <th>5</th>\n",
       "      <td>6</td>\n",
       "      <td>2013-12-17 03:37:06</td>\n",
       "      <td>Cunha Eduardo</td>\n",
       "      <td>EduardoPereiraCunha@yahoo.com</td>\n",
       "      <td>GUEST_INVITE</td>\n",
       "      <td>1.387424e+09</td>\n",
       "      <td>0</td>\n",
       "      <td>0</td>\n",
       "      <td>197</td>\n",
       "      <td>11241.0</td>\n",
       "      <td>False</td>\n",
       "    </tr>\n",
       "    <tr>\n",
       "      <th>6</th>\n",
       "      <td>7</td>\n",
       "      <td>2012-12-16 13:24:32</td>\n",
       "      <td>Sewell Tyler</td>\n",
       "      <td>TylerSewell@jourrapide.com</td>\n",
       "      <td>SIGNUP</td>\n",
       "      <td>1.356010e+09</td>\n",
       "      <td>0</td>\n",
       "      <td>1</td>\n",
       "      <td>37</td>\n",
       "      <td>NaN</td>\n",
       "      <td>False</td>\n",
       "    </tr>\n",
       "    <tr>\n",
       "      <th>7</th>\n",
       "      <td>8</td>\n",
       "      <td>2013-07-31 05:34:02</td>\n",
       "      <td>Hamilton Danielle</td>\n",
       "      <td>DanielleHamilton@yahoo.com</td>\n",
       "      <td>PERSONAL_PROJECTS</td>\n",
       "      <td>NaN</td>\n",
       "      <td>1</td>\n",
       "      <td>1</td>\n",
       "      <td>74</td>\n",
       "      <td>NaN</td>\n",
       "      <td>False</td>\n",
       "    </tr>\n",
       "    <tr>\n",
       "      <th>8</th>\n",
       "      <td>9</td>\n",
       "      <td>2013-11-05 04:04:24</td>\n",
       "      <td>Amsel Paul</td>\n",
       "      <td>PaulAmsel@hotmail.com</td>\n",
       "      <td>PERSONAL_PROJECTS</td>\n",
       "      <td>NaN</td>\n",
       "      <td>0</td>\n",
       "      <td>0</td>\n",
       "      <td>302</td>\n",
       "      <td>NaN</td>\n",
       "      <td>False</td>\n",
       "    </tr>\n",
       "    <tr>\n",
       "      <th>9</th>\n",
       "      <td>10</td>\n",
       "      <td>2013-01-16 22:08:03</td>\n",
       "      <td>Santos Carla</td>\n",
       "      <td>CarlaFerreiraSantos@gustr.com</td>\n",
       "      <td>ORG_INVITE</td>\n",
       "      <td>1.401833e+09</td>\n",
       "      <td>1</td>\n",
       "      <td>1</td>\n",
       "      <td>318</td>\n",
       "      <td>4143.0</td>\n",
       "      <td>False</td>\n",
       "    </tr>\n",
       "  </tbody>\n",
       "</table>\n",
       "</div>"
      ],
      "text/plain": [
       "   object_id       creation_time               name  \\\n",
       "0          1 2014-04-22 03:53:30     Clausen August   \n",
       "1          2 2013-11-15 03:45:04      Poole Matthew   \n",
       "2          3 2013-03-19 23:14:52  Bottrill Mitchell   \n",
       "3          4 2013-05-21 08:09:28    Clausen Nicklas   \n",
       "4          5 2013-01-17 10:14:20          Raw Grace   \n",
       "5          6 2013-12-17 03:37:06      Cunha Eduardo   \n",
       "6          7 2012-12-16 13:24:32       Sewell Tyler   \n",
       "7          8 2013-07-31 05:34:02  Hamilton Danielle   \n",
       "8          9 2013-11-05 04:04:24         Amsel Paul   \n",
       "9         10 2013-01-16 22:08:03       Santos Carla   \n",
       "\n",
       "                           email    creation_source  \\\n",
       "0       AugustCClausen@yahoo.com       GUEST_INVITE   \n",
       "1         MatthewPoole@gustr.com         ORG_INVITE   \n",
       "2     MitchellBottrill@gustr.com         ORG_INVITE   \n",
       "3      NicklasSClausen@yahoo.com       GUEST_INVITE   \n",
       "4             GraceRaw@yahoo.com       GUEST_INVITE   \n",
       "5  EduardoPereiraCunha@yahoo.com       GUEST_INVITE   \n",
       "6     TylerSewell@jourrapide.com             SIGNUP   \n",
       "7     DanielleHamilton@yahoo.com  PERSONAL_PROJECTS   \n",
       "8          PaulAmsel@hotmail.com  PERSONAL_PROJECTS   \n",
       "9  CarlaFerreiraSantos@gustr.com         ORG_INVITE   \n",
       "\n",
       "   last_session_creation_time  opted_in_to_mailing_list  \\\n",
       "0                1.398139e+09                         1   \n",
       "1                1.396238e+09                         0   \n",
       "2                1.363735e+09                         0   \n",
       "3                1.369210e+09                         0   \n",
       "4                1.358850e+09                         0   \n",
       "5                1.387424e+09                         0   \n",
       "6                1.356010e+09                         0   \n",
       "7                         NaN                         1   \n",
       "8                         NaN                         0   \n",
       "9                1.401833e+09                         1   \n",
       "\n",
       "   enabled_for_marketing_drip  org_id  invited_by_user_id  adopted  \n",
       "0                           0      11             10803.0    False  \n",
       "1                           0       1               316.0    False  \n",
       "2                           0      94              1525.0     True  \n",
       "3                           0       1              5151.0    False  \n",
       "4                           0     193              5240.0    False  \n",
       "5                           0     197             11241.0    False  \n",
       "6                           1      37                 NaN    False  \n",
       "7                           1      74                 NaN    False  \n",
       "8                           0     302                 NaN    False  \n",
       "9                           1     318              4143.0    False  "
      ]
     },
     "execution_count": 7,
     "metadata": {},
     "output_type": "execute_result"
    }
   ],
   "source": [
    "users['adopted'] = False\n",
    "\n",
    "for user in adopted_users:\n",
    "    users.loc[user,'adopted'] = True\n",
    "    \n",
    "users.head(10)"
   ]
  },
  {
   "cell_type": "markdown",
   "id": "08ff69b5",
   "metadata": {},
   "source": [
    "**The below code shows:**\n",
    "\n",
    "## How many persons have signed threw different creation sources ?\n",
    "\n",
    "* Invite threw organization has the most and\n",
    "* Signup threw google authentication has the least"
   ]
  },
  {
   "cell_type": "code",
   "execution_count": 8,
   "id": "a1577079",
   "metadata": {},
   "outputs": [
    {
     "name": "stdout",
     "output_type": "stream",
     "text": [
      "['GUEST_INVITE' 'ORG_INVITE' 'SIGNUP' 'PERSONAL_PROJECTS'\n",
      " 'SIGNUP_GOOGLE_AUTH']\n",
      "ORG_INVITE            4254\n",
      "GUEST_INVITE          2163\n",
      "PERSONAL_PROJECTS     2111\n",
      "SIGNUP                2087\n",
      "SIGNUP_GOOGLE_AUTH    1385\n",
      "Name: creation_source, dtype: int64\n"
     ]
    }
   ],
   "source": [
    "c_source = users['creation_source'].unique()\n",
    "c_source_count = users['creation_source'].value_counts()\n",
    "\n",
    "print(c_source)\n",
    "print(c_source_count)"
   ]
  },
  {
   "cell_type": "markdown",
   "id": "414134a2",
   "metadata": {},
   "source": [
    "**The below code shows:**\n",
    "\n",
    "## How many users have registered in different years ? \n",
    "\n",
    "* Year 2013 has the most users signup and\n",
    "* Year 2012 has the least people signedup"
   ]
  },
  {
   "cell_type": "code",
   "execution_count": 9,
   "id": "15c88756",
   "metadata": {},
   "outputs": [
    {
     "name": "stdout",
     "output_type": "stream",
     "text": [
      "2013    5676\n",
      "2014    3527\n",
      "2012    2797\n",
      "Name: creation_time, dtype: int64\n"
     ]
    }
   ],
   "source": [
    "hello = users['creation_time'].dt.year\n",
    "print(hello.value_counts())"
   ]
  },
  {
   "cell_type": "markdown",
   "id": "c0e0c2aa",
   "metadata": {},
   "source": [
    "**The below code shows:**\n",
    "\n",
    "## Which user has invited other people around the most ?\n",
    "\n",
    "it seems that the user 10741 has invited 13 people to the platform "
   ]
  },
  {
   "cell_type": "code",
   "execution_count": 10,
   "id": "a8adad42",
   "metadata": {},
   "outputs": [
    {
     "name": "stdout",
     "output_type": "stream",
     "text": [
      "10741.0    13\n",
      "2527.0     12\n",
      "1525.0     11\n",
      "11770.0    11\n",
      "2308.0     11\n",
      "Name: invited_by_user_id, dtype: int64\n"
     ]
    }
   ],
   "source": [
    "invite = users['invited_by_user_id'].value_counts()\n",
    "print(invite.head())"
   ]
  },
  {
   "cell_type": "markdown",
   "id": "be84b7a1",
   "metadata": {},
   "source": [
    "**The below code shows:**\n",
    "\n",
    "## how many user have opted in for the mailing notification ?"
   ]
  },
  {
   "cell_type": "code",
   "execution_count": 11,
   "id": "7b294481",
   "metadata": {},
   "outputs": [
    {
     "name": "stdout",
     "output_type": "stream",
     "text": [
      "0    9006\n",
      "1    2994\n",
      "Name: opted_in_to_mailing_list, dtype: int64\n"
     ]
    }
   ],
   "source": [
    "invite = users['opted_in_to_mailing_list'].value_counts()\n",
    "print(invite)"
   ]
  },
  {
   "cell_type": "markdown",
   "id": "a3438a83",
   "metadata": {},
   "source": [
    "**The below code shows:**\n",
    "\n",
    "## How many people have enabled notification for marketing drip ?"
   ]
  },
  {
   "cell_type": "code",
   "execution_count": 12,
   "id": "b99c0970",
   "metadata": {},
   "outputs": [
    {
     "name": "stdout",
     "output_type": "stream",
     "text": [
      "0    10208\n",
      "1     1792\n",
      "Name: enabled_for_marketing_drip, dtype: int64\n"
     ]
    }
   ],
   "source": [
    "invite = users['enabled_for_marketing_drip'].value_counts()\n",
    "print(invite)"
   ]
  },
  {
   "cell_type": "markdown",
   "id": "f14e533d",
   "metadata": {},
   "source": [
    "**The below code shows:**\n",
    "\n",
    "## How many people have opted for both the notification for mailing and marketing drip ?"
   ]
  },
  {
   "cell_type": "code",
   "execution_count": 13,
   "id": "aa030cf2",
   "metadata": {},
   "outputs": [
    {
     "name": "stdout",
     "output_type": "stream",
     "text": [
      "1342\n"
     ]
    }
   ],
   "source": [
    "opt2 = users[(users['opted_in_to_mailing_list'] == 1) & (users['enabled_for_marketing_drip'] == 1)]\n",
    "print(len(opt2))"
   ]
  },
  {
   "cell_type": "markdown",
   "id": "9f4af08b",
   "metadata": {},
   "source": [
    "**The below code shows:**\n",
    "\n",
    "## The dataset has 645 repeated names"
   ]
  },
  {
   "cell_type": "code",
   "execution_count": 14,
   "id": "a6626c9f",
   "metadata": {},
   "outputs": [
    {
     "name": "stdout",
     "output_type": "stream",
     "text": [
      "645\n"
     ]
    }
   ],
   "source": [
    "rep_name = users[users.duplicated('name')]\n",
    "print(len(rep_name))"
   ]
  },
  {
   "cell_type": "markdown",
   "id": "835d27ee",
   "metadata": {},
   "source": [
    "**The below code shows:**\n",
    "\n",
    "## The dataset has 20 Repeated Emails"
   ]
  },
  {
   "cell_type": "code",
   "execution_count": 15,
   "id": "0c28c56a",
   "metadata": {},
   "outputs": [
    {
     "name": "stdout",
     "output_type": "stream",
     "text": [
      "20\n"
     ]
    }
   ],
   "source": [
    "rep_email = users[users.duplicated('email')]\n",
    "print(len(rep_email))"
   ]
  },
  {
   "cell_type": "markdown",
   "id": "c6332306",
   "metadata": {},
   "source": [
    "**The below code shows:**\n",
    "\n",
    "## Which Email Domain has been used the most ?\n",
    "\n",
    "It seems that the Google mail has been used th most 3562 times"
   ]
  },
  {
   "cell_type": "code",
   "execution_count": 16,
   "id": "4507c2d5",
   "metadata": {
    "scrolled": false
   },
   "outputs": [
    {
     "name": "stdout",
     "output_type": "stream",
     "text": [
      "gmail.com         3562\n",
      "yahoo.com         2447\n",
      "jourrapide.com    1259\n",
      "cuvox.de          1202\n",
      "gustr.com         1179\n",
      "Name: email, dtype: int64\n"
     ]
    }
   ],
   "source": [
    "Domain_name = users['email'].str.split('@').str[1]\n",
    "diff_dom = Domain_name.value_counts()\n",
    "\n",
    "print(diff_dom.head())"
   ]
  }
 ],
 "metadata": {
  "kernelspec": {
   "display_name": "Python 3 (ipykernel)",
   "language": "python",
   "name": "python3"
  },
  "language_info": {
   "codemirror_mode": {
    "name": "ipython",
    "version": 3
   },
   "file_extension": ".py",
   "mimetype": "text/x-python",
   "name": "python",
   "nbconvert_exporter": "python",
   "pygments_lexer": "ipython3",
   "version": "3.9.7"
  }
 },
 "nbformat": 4,
 "nbformat_minor": 5
}
